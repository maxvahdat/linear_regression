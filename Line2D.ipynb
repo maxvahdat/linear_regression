{
 "cells": [
  {
   "cell_type": "markdown",
   "metadata": {},
   "source": [
    "# Lab 03\n",
    "\n",
    "In this lab, we will first create a dataset for Linear regression, then build different methods to solve simple linear regression.\n",
    "\n",
    "We will go from generating synthetic data to optimizing the parameters of our model and plotting the results."
   ]
  },
  {
   "cell_type": "markdown",
   "metadata": {},
   "source": [
    "## Exercise 1\n",
    "\n",
    "Build a class to generate data sampled from 2D lines:\n",
    "- $y = ax + b + Eps$\n",
    "- the noise Eps is Normal centered on 0, with a parameterized variance.\n",
    "- $x_i$ is in the range \\[-10 , 10\\].\n",
    "\n",
    "This class should allow you to generate any number of points.\n",
    "\n",
    "Build a  method that allow you to generate training, and testing datasets:\n",
    "- the method takes as input thenumber of points generated, and the ratio of points between training and testing set (between 0 and 1).\n",
    "\n",
    "Finally, implement a method that allows to display:\n",
    "- the dataset points \n",
    "- the actual line that was used to generate the points\n",
    "- optional line parameters to display the predicted line\n"
   ]
  },
  {
   "cell_type": "code",
   "execution_count": null,
   "metadata": {
    "jupyter": {
     "is_executing": true
    }
   },
   "outputs": [],
   "source": [
    "import numpy as np\n",
    "import math\n",
    "from numpy.random import default_rng\n",
    "rng = default_rng()\n",
    "\n",
    "import matplotlib.pyplot as plt\n",
    "\n",
    "class Line2D:\n",
    "    \n",
    "    def __init__( self, a, b, noise_variance = 1 ):\n",
    "        \n",
    "        self.a = a\n",
    "        self.b = b\n",
    "        self.variance = noise_variance\n",
    "        \n",
    "    def generate_points(self, N):\n",
    "\n",
    "        # Generate random X\n",
    "        X = rng.uniform(-10, 10, N)\n",
    "        \n",
    "        # Generate random noise\n",
    "        epsilon = rng.normal(0, math.sqrt(self.variance), N)\n",
    "        \n",
    "        # Calculate corresponding y\n",
    "        y = self.a * X + self.b + epsilon\n",
    "                \n",
    "        return X, y\n",
    "        \n",
    "    def generate_dataset(self, N, ratio_train = 0.6):\n",
    "        \n",
    "        X_train , y_train = self.generate_points( int(N*ratio_train) )\n",
    "        X_test , y_test = self.generate_points( N - int(N*ratio_train) )\n",
    "        \n",
    "        return (X_train, y_train), (X_test, y_test)\n",
    "    \n",
    "    def plot( self, X, y, predicted_a = None, predicted_b = None):\n",
    "        \n",
    "        plt.scatter(X, y, marker='.')\n",
    "\n",
    "        x_start = -10\n",
    "        x_end = 10\n",
    "\n",
    "        if predicted_a and predicted_b:\n",
    "          y_start = -10*predicted_a + predicted_b\n",
    "          y_end = 10 * predicted_a + predicted_b\n",
    "          plt.plot( (x_start, x_end), (y_start, y_end), 'r')\n",
    "        plt.show()\n",
    "        \n",
    "\n",
    "data = Line2D( 0.5, 4, noise_variance= 3 )\n",
    "X_vis, y_vis = data.generate_points(1000)\n",
    "data.plot(X_vis, y_vis)\n",
    "data.plot(X_vis, y_vis, predicted_a = 0.5, predicted_b = 2)"
   ]
  },
  {
   "cell_type": "markdown",
   "metadata": {},
   "source": [
    "## Exercise 2\n",
    "\n",
    "Now, we will solve Linear Regression using the different methods we saw during the Lecture.\n",
    "\n",
    "First of all, we will build an Class that will define how all Linear Regression subclasses behave.\n",
    "Some methods are common to all subclasses that we will implement.\n",
    "\n",
    "We will evaluate all our methods using the Mean Square Error.\n",
    "Why this instead of total sum of square?"
   ]
  },
  {
   "cell_type": "code",
   "execution_count": null,
   "metadata": {},
   "outputs": [],
   "source": [
    "class LinearRegression:\n",
    "\n",
    "    def __init__(self):\n",
    "        \n",
    "        self.estimated_a = 0\n",
    "        self.estimated_b = 0\n",
    "        \n",
    "    def cost(self, X, y):\n",
    "        y_pred = self.predict(X)\n",
    "        calculated_cost = np.sum( (y_pred - y)**2)\n",
    "        return calculated_cost\n",
    "        \n",
    "    def predict(self, X):\n",
    "        y_pred = X * self.estimated_a + self.estimated_b\n",
    "        return y_pred\n",
    "    \n",
    "    def evaluate(self, X_test, y_test):\n",
    "        \n",
    "        # Total Sum of Squares\n",
    "        SS_tot = self.cost(X_test, y_test)\n",
    "        \n",
    "        # Mean squares\n",
    "        MSE = SS_tot/len(X_test)\n",
    "        \n",
    "        return MSE"
   ]
  },
  {
   "cell_type": "markdown",
   "metadata": {},
   "source": [
    "Now that the Linear regression class is defined, we can create different subclasses that implement the appraoches we saw during the Lecture.\n",
    "\n",
    "You need to implement the fit method that will update the estimated parameters."
   ]
  },
  {
   "cell_type": "code",
   "execution_count": null,
   "metadata": {},
   "outputs": [],
   "source": [
    "class RandomSearch(LinearRegression):\n",
    "    \n",
    "    def __init__(self, **kwargs):\n",
    "\n",
    "      super().__init__(**kwargs)\n",
    "\n",
    "      self.cost_history = []\n",
    "\n",
    "    def fit(self, X, y, n_steps):\n",
    "\n",
    "      best_a = self.estimated_a\n",
    "      best_b = self.estimated_b\n",
    "\n",
    "      for step in range(n_steps):\n",
    "        # generate random estimated_a and estimated_b through uniform distribution, range -10 to 10\n",
    "        self.estimated_a = ...\n",
    "        self.estimated_b = ...\n",
    "\n",
    "        cost = ...\n",
    "        self.cost_history.append(cost)\n",
    "\n",
    "        if min(self.cost_history) == cost:\n",
    "          # update best_a and best_b\n",
    "          pass\n",
    "\n",
    "      self.estimated_a = best_a\n",
    "      self.estimated_b = best_b\n",
    "        \n",
    "X_train, y_train = data.generate_points(10000)\n",
    "\n",
    "rs = RandomSearch()\n",
    "rs.fit(X_train, y_train, 10000)\n",
    "\n",
    "X_test, y_test = data.generate_points(1000)\n",
    "print(rs.estimated_a, rs.estimated_b)\n",
    "print(rs.evaluate(X_test, y_test))"
   ]
  },
  {
   "cell_type": "code",
   "execution_count": null,
   "metadata": {},
   "outputs": [],
   "source": [
    "class GradientDescent(LinearRegression):\n",
    "    \n",
    "    def __init__(self, learning_rate):\n",
    "        \n",
    "        super().__init__()\n",
    "        self.lr = learning_rate\n",
    "\n",
    "    def fit(self, X, y, number_epochs ):\n",
    "        \n",
    "        cost_history = []\n",
    "        \n",
    "        for epoch in range(number_epochs):\n",
    "            \n",
    "            sum_x = np.sum(X)\n",
    "            sum_y = np.sum(y)\n",
    "            sum_xy = np.sum(X*y)\n",
    "            sum_x_2 = np.sum(X*X)\n",
    "            \n",
    "            gradient_a = ...\n",
    "            gradient_b = ...\n",
    "            \n",
    "            # update both parameters \n",
    "            self.estimated_a -= ...\n",
    "            self.estimated_b -= ...\n",
    "            \n",
    "            cost = self.cost(X, y)\n",
    "            cost_history.append(cost)\n",
    "            \n",
    "            if epoch%10 == 0:\n",
    "              print(epoch, cost)\n",
    "            \n",
    "        return cost_history\n",
    "    \n",
    "X_train, y_train = data.generate_points(10000)\n",
    "gd = GradientDescent(0.01)\n",
    "gd.fit(X_train, y_train, 1000)\n",
    "\n",
    "X_test, y_test = data.generate_points(1000)\n",
    "print(gd.estimated_a, gd.estimated_b)\n",
    "print(gd.evaluate(X_test, y_test))"
   ]
  },
  {
   "cell_type": "markdown",
   "metadata": {},
   "source": [
    "## Exercise 3\n",
    "For random search and gradient descent, display regression lines in each epoch through the learned parameters (estimated_a, estimated_b) "
   ]
  },
  {
   "cell_type": "markdown",
   "metadata": {},
   "source": [
    "## Exercise 4\n",
    "\n",
    "Solve the linear regression problem for different values of line parameters.\n",
    "\n",
    "Compare the speed of convergence of different approaches depending on the learning rate.\n",
    "\n",
    "What happens if the learning rate is too high?\n",
    "\n"
   ]
  },
  {
   "cell_type": "markdown",
   "metadata": {},
   "source": [
    "## Exercise 5\n",
    "\n",
    "Use scikit-learn to verify that you obtain similar results."
   ]
  },
  {
   "cell_type": "code",
   "execution_count": null,
   "metadata": {},
   "outputs": [],
   "source": [
    "from sklearn import linear_model\n",
    "\n",
    "X_train, y_train = data.generate_points(10000)\n",
    "\n",
    "reg = linear_model.LinearRegression()\n",
    "...\n"
   ]
  }
 ],
 "metadata": {
  "kernelspec": {
   "display_name": "base",
   "language": "python",
   "name": "python3"
  },
  "language_info": {
   "codemirror_mode": {
    "name": "ipython",
    "version": 3
   },
   "file_extension": ".py",
   "mimetype": "text/x-python",
   "name": "python",
   "nbconvert_exporter": "python",
   "pygments_lexer": "ipython3",
   "version": "3.12.4"
  }
 },
 "nbformat": 4,
 "nbformat_minor": 2
}
